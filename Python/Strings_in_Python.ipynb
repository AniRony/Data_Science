{
 "cells": [
  {
   "cell_type": "markdown",
   "id": "1f387c77",
   "metadata": {},
   "source": [
    "#### **String Basic Commands**"
   ]
  },
  {
   "cell_type": "code",
   "execution_count": 1,
   "id": "8f752d40",
   "metadata": {},
   "outputs": [
    {
     "name": "stdout",
     "output_type": "stream",
     "text": [
      "13\n",
      "Ilv_yhn\n",
      "nohtyP_evol_I\n",
      "I_love_PythonI_love_Python\n",
      "I_love_PythonI_love_PythonI_love_PythonI_love_Python\n",
      "\n",
      "\n"
     ]
    }
   ],
   "source": [
    "string = 'I_love_Python'\n",
    "print(len(string))\n",
    "print(string[0:13:2]) \n",
    "# 0 to 13 with 2 as slicing number or skipping number which is actually skipping two letters  \n",
    "print(string[-1::-1]) # Writing in revese\n",
    "print(string+string) # joining two strings\n",
    "print(string*4) # repeating strings as many times required\n",
    "print()\n",
    "print()"
   ]
  },
  {
   "cell_type": "markdown",
   "id": "6047060b",
   "metadata": {},
   "source": [
    "#### **Finding a Sub-String within a String:**"
   ]
  },
  {
   "cell_type": "code",
   "execution_count": 2,
   "id": "b99b01b9",
   "metadata": {},
   "outputs": [
    {
     "name": "stdout",
     "output_type": "stream",
     "text": [
      " 'Python' is in main string - 'I Love Python'\n",
      "\n",
      "\n"
     ]
    }
   ],
   "source": [
    "# string = input('Enter the main String - ')\n",
    "string = 'I Love Python'\n",
    "# sub_string = input('Enter the sub String - ')\n",
    "sub_string = 'Python'\n",
    "if sub_string in string:\n",
    "    print(f' \\'{sub_string}\\' is in main string - \\'{string}\\'')\n",
    "else:\n",
    "    print(f' \\'{sub_string}\\' is NOT in main string - \\'{string}\\'')\n",
    "print()\n",
    "print()"
   ]
  },
  {
   "cell_type": "markdown",
   "id": "608b66ad",
   "metadata": {},
   "source": [
    "#### **Comparing two strings:**"
   ]
  },
  {
   "cell_type": "code",
   "execution_count": 3,
   "id": "951c479a",
   "metadata": {},
   "outputs": [
    {
     "name": "stdout",
     "output_type": "stream",
     "text": [
      "Both are Same\n"
     ]
    }
   ],
   "source": [
    "s1 = 'Toy'\n",
    "s2 = 'Toy'\n",
    "if (s1 == s2):\n",
    "    print('Both are Same')\n",
    "else:\n",
    "    print('Both are NOT Same')"
   ]
  },
  {
   "cell_type": "markdown",
   "id": "d57787e3",
   "metadata": {},
   "source": [
    "#### **Elemenating Spaces in a string**"
   ]
  },
  {
   "cell_type": "code",
   "execution_count": 4,
   "id": "9c525c7e",
   "metadata": {},
   "outputs": [
    {
     "name": "stdout",
     "output_type": "stream",
     "text": [
      "False\n"
     ]
    }
   ],
   "source": [
    "a = 'I Love Python  '\n",
    "b = 'I Love Python'\n",
    "#a = a.strip() # If uncomented then a == b will be True otherwise always False due to that extra Space\n",
    "print(a == b)"
   ]
  },
  {
   "cell_type": "markdown",
   "id": "f60456af",
   "metadata": {},
   "source": [
    "#### **Replacing a String**"
   ]
  },
  {
   "cell_type": "code",
   "execution_count": 5,
   "id": "507e99da",
   "metadata": {},
   "outputs": [
    {
     "name": "stdout",
     "output_type": "stream",
     "text": [
      "That is a Bus\n",
      "\n",
      "\n"
     ]
    }
   ],
   "source": [
    "str1 = 'That is a car'\n",
    "str2 = 'car'\n",
    "str3 = 'Bus'\n",
    "str1 = str1.replace(str2,str3)\n",
    "print(str1)\n",
    "print()\n",
    "print()"
   ]
  },
  {
   "cell_type": "markdown",
   "id": "b16521c6",
   "metadata": {},
   "source": [
    "#### **Splitting and Joining**"
   ]
  },
  {
   "cell_type": "code",
   "execution_count": 6,
   "id": "d393ae74",
   "metadata": {},
   "outputs": [
    {
     "name": "stdout",
     "output_type": "stream",
     "text": [
      "The original string is =  I,love,one,two,three\n",
      "The splitted string is =  ['I', 'love', 'one', 'two', 'three']\n",
      "I love one two three\n"
     ]
    }
   ],
   "source": [
    "str1 = 'I,love,one,two,three'\n",
    "print('The original string is = ',str1)\n",
    "str2 = str1.split(',')\n",
    "print('The splitted string is = ',str2)\n",
    "str3 = ' '.join(str2)\n",
    "print(str3)"
   ]
  },
  {
   "cell_type": "markdown",
   "id": "8f0e2531",
   "metadata": {},
   "source": [
    "#### **Changing Case of a string**"
   ]
  },
  {
   "cell_type": "code",
   "execution_count": 7,
   "id": "ec407da4",
   "metadata": {},
   "outputs": [
    {
     "name": "stdout",
     "output_type": "stream",
     "text": [
      "HELLOOO WORLD\n",
      "hellooo world\n",
      "Hellooo World\n",
      "HelLOOO WorLD\n"
     ]
    }
   ],
   "source": [
    "str1 = 'hELlooo wORld'\n",
    "print(str1.upper()) # all CapsLock\n",
    "print(str1.lower()) # all Caps Down\n",
    "print(str1.title()) # Only first letter of each word is CapsLock\n",
    "print(str1.swapcase()) # Opposite case of all existing case of the word"
   ]
  },
  {
   "cell_type": "markdown",
   "id": "f646ccf9",
   "metadata": {},
   "source": [
    "#### **Checking Starting and Ending of a String:**"
   ]
  },
  {
   "cell_type": "code",
   "execution_count": 8,
   "id": "c54df154",
   "metadata": {},
   "outputs": [
    {
     "name": "stdout",
     "output_type": "stream",
     "text": [
      "Main String is  -  hELlooo wORld\n",
      "starts with hel =  False\n",
      "starts with hEL =  True\n",
      "ends with Rld   =  True\n",
      "ends with rld   =  False\n"
     ]
    }
   ],
   "source": [
    "str1 = 'hELlooo wORld'\n",
    "print('Main String is  - ', str1)\n",
    "print('starts with hel = ', str1.startswith('hel'))\n",
    "print('starts with hEL = ', str1.startswith('hEL'))\n",
    "print('ends with Rld   = ', str1.endswith('Rld'))\n",
    "print('ends with rld   = ', str1.endswith('rld'))\n"
   ]
  },
  {
   "cell_type": "markdown",
   "id": "871bfc90",
   "metadata": {},
   "source": [
    "#### **String Testing Methods:**"
   ]
  },
  {
   "cell_type": "code",
   "execution_count": 9,
   "id": "3424b713",
   "metadata": {},
   "outputs": [
    {
     "name": "stdout",
     "output_type": "stream",
     "text": [
      "the string - 'ani123' is alpha numeric =  True\n",
      "the string - 'anirony' is alphabetical =  True\n",
      "the string - '123456' is Numeric       =  True\n",
      "the string - 'Abcdefghi' is Lower Case =  False\n",
      "the string - 'ABCDEFGHI' is Upper Case =  True\n",
      "the string - 'ANirban' is Title Case   =  False\n",
      "the string - '       ' is a SPACE only =  True\n"
     ]
    }
   ],
   "source": [
    "str1 = 'ani123'\n",
    "str2 = 'anirony'\n",
    "str3 = '123456'\n",
    "str4 = 'Abcdefghi'\n",
    "str5 = 'ABCDEFGHI'\n",
    "str6 = 'ANirban'\n",
    "str7 = '       '\n",
    "print(f'the string - \\'{str1}\\' is alpha numeric = ',str1.isalnum())\n",
    "print(f'the string - \\'{str2}\\' is alphabetical = ',str2.isalpha())\n",
    "print(f'the string - \\'{str3}\\' is Numeric       = ',str3.isdigit())\n",
    "print(f'the string - \\'{str4}\\' is Lower Case = ',str4.islower())\n",
    "print(f'the string - \\'{str5}\\' is Upper Case = ',str5.isupper())\n",
    "print(f'the string - \\'{str6}\\' is Title Case   = ',str6.istitle())\n",
    "print(f'the string - \\'{str7}\\' is a SPACE only = ',str7.isspace())"
   ]
  },
  {
   "cell_type": "code",
   "execution_count": 10,
   "id": "15e30b76",
   "metadata": {},
   "outputs": [
    {
     "name": "stdout",
     "output_type": "stream",
     "text": [
      "10lucky20\n",
      "10 lucky 20\n"
     ]
    }
   ],
   "source": [
    "a = 10\n",
    "b = 'lucky'\n",
    "c = 20\n",
    "d = str(a)+b+str(c)\n",
    "print(d)\n",
    "e = '{} {} {}'.format(a,b,c) # '{}, {}, {}' it's the pattern how we want to join the elements\n",
    "print(e)"
   ]
  },
  {
   "cell_type": "code",
   "execution_count": 11,
   "id": "bd3036ba",
   "metadata": {
    "scrolled": true
   },
   "outputs": [
    {
     "name": "stdout",
     "output_type": "stream",
     "text": [
      "['A', 'a', 'b', 'i', 'n', 'n', 'r']\n",
      "['A', 'n', 'i', 'r', 'b', 'a', 'n']\n",
      "['Anirban', 'Boy', 'Deba', 'Girl', 'Mummy', 'Papa', 'Rony', 'Tony']\n"
     ]
    }
   ],
   "source": [
    "a = 'Anirban'\n",
    "print(sorted(a))\n",
    "print(list(a))\n",
    "b = ['Anirban','Rony','Tony','Boy','Girl','Papa','Mummy','Deba']\n",
    "print(sorted(b))"
   ]
  },
  {
   "cell_type": "markdown",
   "id": "b70a8d41",
   "metadata": {},
   "source": [
    "#### **Counting the number of strings in a string**"
   ]
  },
  {
   "cell_type": "code",
   "execution_count": 12,
   "id": "49bc7009",
   "metadata": {
    "scrolled": true
   },
   "outputs": [
    {
     "name": "stdout",
     "output_type": "stream",
     "text": [
      "1 A\n",
      "2 n\n",
      "3 i\n",
      "4 r\n",
      "5 b\n",
      "6 a\n",
      "7 n\n",
      "8  \n",
      "9 M\n",
      "10 a\n",
      "11 n\n",
      "12 d\n",
      "13 a\n",
      "14 l\n",
      "No of characters in the string - 'Anirban Mandal' is - 14\n"
     ]
    }
   ],
   "source": [
    "sr1 = 'Anirban Mandal'\n",
    "j = 0\n",
    "for i in sr1:\n",
    "    j +=1\n",
    "    print(j,i)\n",
    "print(f'No of characters in the string - \\'{sr1}\\' is -',j)"
   ]
  },
  {
   "cell_type": "markdown",
   "id": "fcc100b6",
   "metadata": {},
   "source": [
    "#### **Inserting Substring into a String :**"
   ]
  },
  {
   "cell_type": "code",
   "execution_count": 13,
   "id": "91b4a502",
   "metadata": {
    "scrolled": true
   },
   "outputs": [
    {
     "name": "stdout",
     "output_type": "stream",
     "text": [
      "Hellooo Welcome In My World\n"
     ]
    }
   ],
   "source": [
    "str1 = 'Hellooo World'\n",
    "str2 = 'Welcome In My '\n",
    "str3 = str1[:8]+str2+str1[8:]\n",
    "print(str3)"
   ]
  },
  {
   "cell_type": "markdown",
   "id": "c18b05a6",
   "metadata": {},
   "source": [
    "#### **Code for Inserting Substring into a String :**"
   ]
  },
  {
   "cell_type": "code",
   "execution_count": 14,
   "id": "88772ad6",
   "metadata": {},
   "outputs": [
    {
     "name": "stdout",
     "output_type": "stream",
     "text": [
      "Enter the main string -  Hellooo World\n",
      "Enter the sub String -  Welcome In My\n",
      "Enter the position number where you want to enter the sub string - 8\n",
      "If you want to add the sub string in between two words enter 1 or otherwise 0 = 1\n",
      "Hellooo Welcome In My World\n"
     ]
    }
   ],
   "source": [
    "str1 = input('Enter the main string -  ')\n",
    "str2 = input('Enter the sub String -  ')\n",
    "n = int(input('Enter the position number where you want to enter the sub string - '))\n",
    "m = int(input('If you want to add the sub string in between two words enter 1 or otherwise 0 = '))\n",
    "str4 = ' '\n",
    "if m == 1:\n",
    "    str3 = str1[:n-1]+str4+str2+str4+str1[n:]\n",
    "    print(str3)\n",
    "elif m == 0:\n",
    "    str3 = str1[:n-1]+str2+str1[n-1:]\n",
    "    print(str3)\n",
    "else:\n",
    "    print('Invalid Input')"
   ]
  },
  {
   "cell_type": "code",
   "execution_count": 15,
   "id": "66555e1f",
   "metadata": {},
   "outputs": [
    {
     "name": "stdout",
     "output_type": "stream",
     "text": [
      "Available Themes: \n",
      "   chesterish\n",
      "   grade3\n",
      "   gruvboxd\n",
      "   gruvboxl\n",
      "   monokai\n",
      "   oceans16\n",
      "   onedork\n",
      "   solarizedd\n",
      "   solarizedl\n"
     ]
    }
   ],
   "source": [
    "! jt -l"
   ]
  },
  {
   "cell_type": "code",
   "execution_count": 17,
   "id": "2bad12e7",
   "metadata": {},
   "outputs": [],
   "source": [
    "! jt -t chesterish -ofs 12 -fs 12 -T -N -kl -cellw 1150"
   ]
  }
 ],
 "metadata": {
  "kernelspec": {
   "display_name": "Python 3 (ipykernel)",
   "language": "python",
   "name": "python3"
  },
  "language_info": {
   "codemirror_mode": {
    "name": "ipython",
    "version": 3
   },
   "file_extension": ".py",
   "mimetype": "text/x-python",
   "name": "python",
   "nbconvert_exporter": "python",
   "pygments_lexer": "ipython3",
   "version": "3.9.7"
  }
 },
 "nbformat": 4,
 "nbformat_minor": 5
}
