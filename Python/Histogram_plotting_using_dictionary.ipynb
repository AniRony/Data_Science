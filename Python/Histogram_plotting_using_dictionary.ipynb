{
 "cells": [
  {
   "cell_type": "markdown",
   "id": "ee7c43c3",
   "metadata": {},
   "source": [
    "### BAR plot of a string after finding histogram of alphabets."
   ]
  },
  {
   "cell_type": "code",
   "execution_count": 3,
   "id": "bb2ddcbf",
   "metadata": {},
   "outputs": [],
   "source": [
    "import matplotlib.pyplot as plt"
   ]
  },
  {
   "cell_type": "code",
   "execution_count": 4,
   "id": "45635089",
   "metadata": {},
   "outputs": [],
   "source": [
    "def punctuation_removal(s):\n",
    "    s = s.lower()\n",
    "    punc = '''!()-[]{};: '\"\\,<>./?@#$%^&*_~'''\n",
    "    a = []\n",
    "    a[:] = s\n",
    "    b = []\n",
    "    for i in a:\n",
    "        if i in punc:\n",
    "            b.append(i)\n",
    "        else:\n",
    "            pass\n",
    "    for l in b:\n",
    "        a.remove(l)\n",
    "    return a\n",
    "def histogram(q):\n",
    "    p = punctuation_removal(q)\n",
    "    dict1 = {}\n",
    "    dict2 = {}\n",
    "    for i in p:\n",
    "        if i in dict1:\n",
    "            dict1[i] +=1\n",
    "        else:\n",
    "            dict1[i] = 1\n",
    "    for i in (sorted(dict1.keys())):\n",
    "        dict2[i] = dict1[i] \n",
    "    return dict2"
   ]
  },
  {
   "cell_type": "code",
   "execution_count": 5,
   "id": "e1db2638",
   "metadata": {},
   "outputs": [
    {
     "name": "stdout",
     "output_type": "stream",
     "text": [
      "Give me some sentence : hi sexy!~!!!\n"
     ]
    },
    {
     "data": {
      "image/png": "[encoded data removed]",
      "text/plain": [
       "<Figure size 432x288 with 1 Axes>"
      ]
     },
     "metadata": {
      "needs_background": "light"
     },
     "output_type": "display_data"
    }
   ],
   "source": [
    "string = str(input('Give me some sentence : '))\n",
    "#string = 'Heloo Pinky.!! Bebo how are you.?? ? Do You miss me sexy Jaan?? Howzz your preparation and chika going??'\n",
    "c = histogram(string)\n",
    "#print(c)\n",
    "plt.bar(c.keys(),c.values(), width=0.5, color = 'g')\n",
    "plt.show()\n",
    "\n"
   ]
  },
  {
   "cell_type": "code",
   "execution_count": null,
   "id": "65654281",
   "metadata": {},
   "outputs": [],
   "source": []
  },
  {
   "cell_type": "code",
   "execution_count": null,
   "id": "55de961a",
   "metadata": {},
   "outputs": [],
   "source": []
  },
  {
   "cell_type": "code",
   "execution_count": null,
   "id": "e2f695e7",
   "metadata": {},
   "outputs": [],
   "source": []
  },
  {
   "cell_type": "code",
   "execution_count": null,
   "id": "20e23191",
   "metadata": {},
   "outputs": [],
   "source": []
  }
 ],
 "metadata": {
  "kernelspec": {
   "display_name": "Python 3 (ipykernel)",
   "language": "python",
   "name": "python3"
  },
  "language_info": {
   "codemirror_mode": {
    "name": "ipython",
    "version": 3
   },
   "file_extension": ".py",
   "mimetype": "text/x-python",
   "name": "python",
   "nbconvert_exporter": "python",
   "pygments_lexer": "ipython3",
   "version": "3.9.7"
  }
 },
 "nbformat": 4,
 "nbformat_minor": 5
}
